{
 "cells": [
  {
   "cell_type": "code",
   "execution_count": 19,
   "metadata": {},
   "outputs": [],
   "source": [
    "class company:\n",
    "    def __init__(self, name, industry, staff_size, accountant, manager, union):\n",
    "        self.name = name\n",
    "        self.industry = industry\n",
    "        self.staff_size = staff_size\n",
    "        self.accountant = accountant\n",
    "        self.manager = manager\n",
    "        self.union = union\n",
    "    \n",
    "    def staff_size(self):\n",
    "        return self.staff_size"
   ]
  },
  {
   "cell_type": "code",
   "execution_count": 20,
   "metadata": {},
   "outputs": [],
   "source": [
    "company1 = company(name='A', industry='IT', staff_size=500, accountant = 5, manager = 50, union = 200)"
   ]
  },
  {
   "cell_type": "code",
   "execution_count": 21,
   "metadata": {},
   "outputs": [],
   "source": [
    "company2 = company(name='B', industry='Manufacturing', staff_size=2000,  accountant = 15, manager = 150, union = 1000)"
   ]
  },
  {
   "cell_type": "code",
   "execution_count": 29,
   "metadata": {},
   "outputs": [
    {
     "name": "stdout",
     "output_type": "stream",
     "text": [
      "Compare Staff Size = 1500\n",
      "Difference in Number of Manager = 100\n"
     ]
    }
   ],
   "source": [
    "print(\"Compare Staff Size = {}\".format(abs(company1.staff_size-company2.staff_size)))\n",
    "print(\"Difference in Number of Manager = {}\".format(abs(company1.manager-company2.manager)))"
   ]
  }
 ],
 "metadata": {
  "interpreter": {
   "hash": "617cd11beecaaa00b9f5c030d9a7852158a15a485ff96c541bf72fa99c2996b6"
  },
  "kernelspec": {
   "display_name": "Python 3.8.7 64-bit",
   "language": "python",
   "name": "python3"
  },
  "language_info": {
   "codemirror_mode": {
    "name": "ipython",
    "version": 3
   },
   "file_extension": ".py",
   "mimetype": "text/x-python",
   "name": "python",
   "nbconvert_exporter": "python",
   "pygments_lexer": "ipython3",
   "version": "3.8.7"
  },
  "orig_nbformat": 4
 },
 "nbformat": 4,
 "nbformat_minor": 2
}
